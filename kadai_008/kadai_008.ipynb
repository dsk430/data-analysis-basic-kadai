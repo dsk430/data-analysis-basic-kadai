{
  "nbformat": 4,
  "nbformat_minor": 0,
  "metadata": {
    "colab": {
      "provenance": []
    },
    "kernelspec": {
      "name": "python3",
      "display_name": "Python 3"
    },
    "language_info": {
      "name": "python"
    }
  },
  "cells": [
    {
      "cell_type": "code",
      "execution_count": 32,
      "metadata": {
        "colab": {
          "base_uri": "https://localhost:8080/"
        },
        "id": "NsMc0B5mZ28B",
        "outputId": "c33fbe0e-6807-4547-f3ff-cf6ab6f686cb"
      },
      "outputs": [
        {
          "output_type": "stream",
          "name": "stdout",
          "text": [
            "0.9259259259259259\n",
            "0.9629629629629629\n",
            "0.9259259259259259\n",
            "0.9629629629629629\n"
          ]
        }
      ],
      "source": [
        "#1.サンプルデータの取得\n",
        "from sklearn.datasets import load_wine\n",
        "dataset = load_wine()\n",
        "dataset\n",
        "\n",
        "#2.サンプルデータの分割\n",
        "X = dataset.data\n",
        "y = dataset.target\n",
        "from sklearn.model_selection import train_test_split\n",
        "X_train, X_test, y_train, y_test = train_test_split(X, y, test_size=0.3, random_state=5)\n",
        "\n",
        "#3.予測モデルのインスタンス化\n",
        "#変更前(決定木)\n",
        "from sklearn.tree import DecisionTreeClassifier\n",
        "model1 = DecisionTreeClassifier(random_state = 3)\n",
        "#変更後(ランダムフォレスト)\n",
        "from sklearn.ensemble import RandomForestClassifier\n",
        "model2 = RandomForestClassifier(random_state = 3)\n",
        "\n",
        "#4.予測モデルの学習\n",
        "model1.fit(X_train, y_train)\n",
        "model2.fit(X_train, y_train)\n",
        "\n",
        "#5.予測モデルの評価\n",
        "#accuracy_score関数を利用する方法\n",
        "y_pred1 = model1.predict(X_test)\n",
        "y_pred2 = model2.predict(X_test)\n",
        "\n",
        "from sklearn.metrics import accuracy_score\n",
        "print(accuracy_score(y_test, y_pred1))\n",
        "print(accuracy_score(y_test, y_pred2))\n",
        "\n",
        "#scoreメソッドを利用する方法\n",
        "print(model1.score(X_test, y_test))\n",
        "print(model2.score(X_test, y_test))\n",
        "\n",
        "\n",
        "\n",
        "\n",
        "\n",
        "\n",
        "\n",
        "\n",
        "\n",
        "\n"
      ]
    }
  ]
}