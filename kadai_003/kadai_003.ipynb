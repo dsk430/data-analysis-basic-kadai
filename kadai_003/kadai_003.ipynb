{
  "nbformat": 4,
  "nbformat_minor": 0,
  "metadata": {
    "colab": {
      "provenance": []
    },
    "kernelspec": {
      "name": "python3",
      "display_name": "Python 3"
    },
    "language_info": {
      "name": "python"
    }
  },
  "cells": [
    {
      "cell_type": "code",
      "source": [
        "import numpy as np\n",
        "A = np.array([[0,1],[2,3],[4,5]])\n",
        "B = np.array([[0,1,2,3],[4,5,6,7]])\n",
        "C = np.dot(A,B)\n",
        "C.max()"
      ],
      "metadata": {
        "colab": {
          "base_uri": "https://localhost:8080/"
        },
        "id": "6SNF5XxSowaT",
        "outputId": "dd7f9fd4-2b88-4dc4-b2c6-fe9f2d486377"
      },
      "execution_count": 70,
      "outputs": [
        {
          "output_type": "execute_result",
          "data": {
            "text/plain": [
              "47"
            ]
          },
          "metadata": {},
          "execution_count": 70
        }
      ]
    }
  ]
}