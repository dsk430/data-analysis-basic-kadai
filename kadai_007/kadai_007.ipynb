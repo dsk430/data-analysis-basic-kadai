{
  "nbformat": 4,
  "nbformat_minor": 0,
  "metadata": {
    "colab": {
      "provenance": []
    },
    "kernelspec": {
      "name": "python3",
      "display_name": "Python 3"
    },
    "language_info": {
      "name": "python"
    }
  },
  "cells": [
    {
      "cell_type": "markdown",
      "source": [
        "# 新しいセクション"
      ],
      "metadata": {
        "id": "t5vpPvFMN6vT"
      }
    },
    {
      "cell_type": "code",
      "source": [
        "!pip install japanize_matplotlib\n",
        "import matplotlib.pyplot as plt\n",
        "import pandas as pd\n",
        "import japanize_matplotlib as jpplt\n",
        "\n",
        "df = pd.read_csv(\"sample_pandas_6.csv\")\n",
        "category_df = pd.read_csv(\"category.csv\")\n",
        "df = pd.merge(df,category_df[['商品番号','カテゴリー']],how = 'inner', on = '商品番号')\n",
        "\n",
        "df1 = df['カテゴリー'].value_counts()\n",
        "df1.plot(kind='bar')\n",
        "plt.xticks(rotation=0)\n",
        "plt.show()\n",
        "\n",
        "df2 = df.groupby('商品番号')['注文数'].max()\n",
        "df3 = df.groupby('商品番号')['注文数'].describe()\n",
        "print(df2)\n",
        "print(df3)\n",
        "\n",
        "\n"
      ],
      "metadata": {
        "colab": {
          "base_uri": "https://localhost:8080/",
          "height": 1000
        },
        "id": "3BkHmWN1SPni",
        "outputId": "b3472ec8-9206-476b-e35a-e3ba5207c294"
      },
      "execution_count": 13,
      "outputs": [
        {
          "output_type": "stream",
          "name": "stdout",
          "text": [
            "Requirement already satisfied: japanize_matplotlib in /usr/local/lib/python3.11/dist-packages (1.1.3)\n",
            "Requirement already satisfied: matplotlib in /usr/local/lib/python3.11/dist-packages (from japanize_matplotlib) (3.10.0)\n",
            "Requirement already satisfied: contourpy>=1.0.1 in /usr/local/lib/python3.11/dist-packages (from matplotlib->japanize_matplotlib) (1.3.1)\n",
            "Requirement already satisfied: cycler>=0.10 in /usr/local/lib/python3.11/dist-packages (from matplotlib->japanize_matplotlib) (0.12.1)\n",
            "Requirement already satisfied: fonttools>=4.22.0 in /usr/local/lib/python3.11/dist-packages (from matplotlib->japanize_matplotlib) (4.55.3)\n",
            "Requirement already satisfied: kiwisolver>=1.3.1 in /usr/local/lib/python3.11/dist-packages (from matplotlib->japanize_matplotlib) (1.4.8)\n",
            "Requirement already satisfied: numpy>=1.23 in /usr/local/lib/python3.11/dist-packages (from matplotlib->japanize_matplotlib) (1.26.4)\n",
            "Requirement already satisfied: packaging>=20.0 in /usr/local/lib/python3.11/dist-packages (from matplotlib->japanize_matplotlib) (24.2)\n",
            "Requirement already satisfied: pillow>=8 in /usr/local/lib/python3.11/dist-packages (from matplotlib->japanize_matplotlib) (11.1.0)\n",
            "Requirement already satisfied: pyparsing>=2.3.1 in /usr/local/lib/python3.11/dist-packages (from matplotlib->japanize_matplotlib) (3.2.1)\n",
            "Requirement already satisfied: python-dateutil>=2.7 in /usr/local/lib/python3.11/dist-packages (from matplotlib->japanize_matplotlib) (2.8.2)\n",
            "Requirement already satisfied: six>=1.5 in /usr/local/lib/python3.11/dist-packages (from python-dateutil>=2.7->matplotlib->japanize_matplotlib) (1.17.0)\n"
          ]
        },
        {
          "output_type": "display_data",
          "data": {
            "text/plain": [
              "<Figure size 640x480 with 1 Axes>"
            ],
            "image/png": "[encoded data removed]"
          },
          "metadata": {}
        },
        {
          "output_type": "stream",
          "name": "stdout",
          "text": [
            "商品番号\n",
            "1QJFO8QY    60\n",
            "2HSTCDWM    60\n",
            "48XMJXKO    42\n",
            "8T7D5DQA    54\n",
            "MESUDVWQ    60\n",
            "QRMOGNUU    60\n",
            "S6RE8W6X    60\n",
            "X0ZE2ZMY    60\n",
            "YY4HAAZR    60\n",
            "Z4WOOIYV    60\n",
            "Name: 注文数, dtype: int64\n",
            "          count       mean        std  min   25%   50%   75%   max\n",
            "商品番号                                                              \n",
            "1QJFO8QY   32.0  35.250000  18.461818  0.0  24.0  36.0  49.5  60.0\n",
            "2HSTCDWM   20.0  29.400000  21.137146  0.0  12.0  27.0  48.0  60.0\n",
            "48XMJXKO   10.0  21.600000  13.326665  0.0  13.5  21.0  30.0  42.0\n",
            "8T7D5DQA   21.0  25.142857  18.260027  0.0  12.0  36.0  42.0  54.0\n",
            "MESUDVWQ   17.0  43.764706  18.219253  0.0  42.0  48.0  54.0  60.0\n",
            "QRMOGNUU   27.0  33.111111  16.588535  6.0  21.0  36.0  48.0  60.0\n",
            "S6RE8W6X   20.0  33.300000  21.631118  0.0  12.0  39.0  54.0  60.0\n",
            "X0ZE2ZMY   14.0  21.857143  21.901377  0.0   1.5  15.0  39.0  60.0\n",
            "YY4HAAZR   17.0  31.764706  18.095336  0.0  18.0  30.0  42.0  60.0\n",
            "Z4WOOIYV   22.0  26.727273  19.218498  0.0  12.0  24.0  42.0  60.0\n"
          ]
        }
      ]
    },
    {
      "cell_type": "code",
      "source": [],
      "metadata": {
        "id": "OZ4vP74RUt5p"
      },
      "execution_count": null,
      "outputs": []
    }
  ]
}